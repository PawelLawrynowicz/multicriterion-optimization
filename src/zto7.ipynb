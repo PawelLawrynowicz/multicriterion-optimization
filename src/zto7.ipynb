{
 "cells": [
  {
   "cell_type": "code",
   "execution_count": 18,
   "metadata": {},
   "outputs": [],
   "source": [
    "from task1 import task1\n",
    "from data import Data"
   ]
  },
  {
   "cell_type": "code",
   "execution_count": 21,
   "metadata": {},
   "outputs": [
    {
     "name": "stdout",
     "output_type": "stream",
     "text": [
      "[([1, 0, 4, 3, 2], array([464., 119.])), ([1, 3, 4, 0, 2], array([500., 155.])), ([0, 4, 3, 2, 1], array([424., 215.])), ([1, 4, 0, 2, 3], array([458., 174.])), ([0, 3, 1, 2, 4], array([371., 181.])), ([1, 2, 3, 0, 4], array([438., 248.])), ([1, 0, 3, 4, 2], array([428., 172.])), ([0, 1, 4, 2, 3], array([377.,  93.])), ([0, 1, 3, 4, 2], array([393., 137.])), ([1, 2, 4, 3, 0], array([426.,  75.])), ([1, 3, 4, 0, 2], array([500., 155.])), ([0, 3, 4, 1, 2], array([388., 113.])), ([1, 0, 2, 3, 4], array([405., 215.]))]\n"
     ]
    }
   ],
   "source": [
    "Data.maxIter = 100\n",
    "Data.n = 5\n",
    "task1(n = Data.n, maxIter = Data.maxIter, numCriteria=2)"
   ]
  },
  {
   "cell_type": "code",
   "execution_count": null,
   "metadata": {},
   "outputs": [],
   "source": []
  }
 ],
 "metadata": {
  "interpreter": {
   "hash": "916dbcbb3f70747c44a77c7bcd40155683ae19c65e1c03b4aa3499c5328201f1"
  },
  "kernelspec": {
   "display_name": "Python 3.8.10 64-bit",
   "language": "python",
   "name": "python3"
  },
  "language_info": {
   "codemirror_mode": {
    "name": "ipython",
    "version": 3
   },
   "file_extension": ".py",
   "mimetype": "text/x-python",
   "name": "python",
   "nbconvert_exporter": "python",
   "pygments_lexer": "ipython3",
   "version": "3.8.10"
  },
  "orig_nbformat": 4
 },
 "nbformat": 4,
 "nbformat_minor": 2
}
